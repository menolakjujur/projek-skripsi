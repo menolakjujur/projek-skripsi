{
  "nbformat": 4,
  "nbformat_minor": 0,
  "metadata": {
    "colab": {
      "private_outputs": true,
      "provenance": [],
      "authorship_tag": "ABX9TyN3c1AqGtvZM/A1Zw+ueYwA",
      "include_colab_link": true
    },
    "kernelspec": {
      "name": "python3",
      "display_name": "Python 3"
    },
    "language_info": {
      "name": "python"
    }
  },
  "cells": [
    {
      "cell_type": "markdown",
      "metadata": {
        "id": "view-in-github",
        "colab_type": "text"
      },
      "source": [
        "<a href=\"https://colab.research.google.com/github/menolakjujur/projek-skripsi/blob/master/Untitled26.ipynb\" target=\"_parent\"><img src=\"https://colab.research.google.com/assets/colab-badge.svg\" alt=\"Open In Colab\"/></a>"
      ]
    },
    {
      "cell_type": "code",
      "source": [
        "#pip install pandas"
      ],
      "metadata": {
        "id": "wRL4hxSAgy-Y"
      },
      "execution_count": null,
      "outputs": []
    },
    {
      "cell_type": "code",
      "source": [
        "# pip install tensorflow"
      ],
      "metadata": {
        "id": "wx6pdC8LeY90"
      },
      "execution_count": null,
      "outputs": []
    },
    {
      "cell_type": "code",
      "source": [
        "#pip install keras"
      ],
      "metadata": {
        "id": "kGRF7btgef7L"
      },
      "execution_count": null,
      "outputs": []
    },
    {
      "cell_type": "code",
      "source": [
        "#pip install opencv-python"
      ],
      "metadata": {
        "id": "7_gKVrGmek1U"
      },
      "execution_count": null,
      "outputs": []
    },
    {
      "cell_type": "code",
      "source": [
        "#pip install imutils"
      ],
      "metadata": {
        "id": "3CS6dDZQgIB5"
      },
      "execution_count": null,
      "outputs": []
    },
    {
      "cell_type": "code",
      "source": [
        "#pip install matplotlib"
      ],
      "metadata": {
        "id": "9lvA_X1UgR-B"
      },
      "execution_count": null,
      "outputs": []
    },
    {
      "cell_type": "code",
      "source": [
        "#pip install seaborn"
      ],
      "metadata": {
        "id": "HjZUTGDNgc96"
      },
      "execution_count": null,
      "outputs": []
    },
    {
      "cell_type": "code",
      "source": [
        "#pip install scikit learn"
      ],
      "metadata": {
        "id": "431mWCnRgnpA"
      },
      "execution_count": null,
      "outputs": []
    },
    {
      "cell_type": "markdown",
      "source": [
        "import library"
      ],
      "metadata": {
        "id": "X89EGLJ_g7tl"
      }
    },
    {
      "cell_type": "code",
      "source": [
        "# import pandas as pd\n",
        "# import matplotlib.pyplot as plt\n",
        "# import os\n",
        "# from os.path import join\n",
        "# import random\n",
        "# import cv2\n",
        "# import numpy as np\n",
        "# import matplotlib.pyplot as plt\n",
        "# from tensorflow.keras.utils import to_categorical\n",
        "# from sklearn.model_selection import StratifiedShuffleSplit, train_test_split\n",
        "# from keras.models import Sequential\n",
        "# from tensorflow.keras import layers, models\n",
        "# from tensorflow.keras.layers import Conv2D, MaxPooling2D, Dense, Flatten, Dropout\n",
        "# from tensorflow.keras.layers import Dense, Flatten, Dropout, BatchNormalization , Activation,Conv2D\n",
        "# from keras.optimizers import Adam\n",
        "# from tensorflow.keras.callbacks import EarlyStopping, ReduceLROnPlateau, ModelCheckpoint\n",
        "# from sklearn.metrics import roc_curve, auc, roc_auc_score\n",
        "# from sklearn.metrics import classification_report\n",
        "# import seaborn as sns\n",
        "# from sklearn.metrics import classification_report, accuracy_score,roc_curve,confusion_matrix"
      ],
      "metadata": {
        "id": "9qO1Tz7LhDgq"
      },
      "execution_count": null,
      "outputs": []
    },
    {
      "cell_type": "markdown",
      "source": [
        "prprocessing"
      ],
      "metadata": {
        "id": "b6_vAoGThGgN"
      }
    },
    {
      "cell_type": "code",
      "source": [
        "import os\n",
        "import pandas as pd\n",
        "import cv2\n",
        "\n",
        "def convert_to_png(image_path, output_path):\n",
        "    # Read the image using OpenCV\n",
        "    image = cv2.imread(image_path)\n",
        "    # Create the output directory if it doesn't exist\n",
        "    os.makedirs(os.path.dirname(output_path), exist_ok=True)\n",
        "    # Save the image as PNG\n",
        "    cv2.imwrite(output_path, image)\n",
        "\n",
        "def get_last_n_parts(path, n):\n",
        "    return os.path.join(*path.split(os.sep)[-n:])\n",
        "\n",
        "def create_labels_csv(data_collection, output_csv, path_output):\n",
        "    # Check if the CSV file already exists\n",
        "    if os.path.exists(output_csv):\n",
        "        print(f'Label CSV already exists at: {output_csv}')\n",
        "        return  # Exit the function if the file already exists\n",
        "\n",
        "    # List to store image file paths and their corresponding labels and dimensions\n",
        "    data = []\n",
        "\n",
        "    # Traverse the dataset directory\n",
        "    for root, dirs, files in os.walk(data_collection):\n",
        "        for file in files:\n",
        "            if file.endswith(('.jpg', '.jpeg', '.png')):\n",
        "                # Get the class label from the subdirectory name\n",
        "                label = os.path.basename(root)\n",
        "                # Get the full file path\n",
        "                file_path = os.path.join(root, file)\n",
        "\n",
        "                # Create a new file path for the PNG image\n",
        "                relative_path = os.path.relpath(file_path, data_collection)\n",
        "                png_file_path = os.path.join(path_output, os.path.splitext(relative_path)[0] + '.png')\n",
        "\n",
        "                # Convert the image to PNG\n",
        "                convert_to_png(file_path, png_file_path)\n",
        "\n",
        "                # Get image dimensions\n",
        "                img = cv2.imread(file_path)\n",
        "                height, width, _ = img.shape\n",
        "\n",
        "                # Get only the last 3 parts of the path for CSV\n",
        "                csv_path = get_last_n_parts(png_file_path, 2)\n",
        "\n",
        "                # Append to the data list including dimensions\n",
        "                data.append([csv_path, width, height, label])\n",
        "\n",
        "    # Create a DataFrame from the data list\n",
        "    df = pd.DataFrame(data, columns=['file_path', 'width', 'height', 'label'])\n",
        "\n",
        "    # Save the DataFrame to a CSV file\n",
        "    df.to_csv(output_csv, index=False)\n",
        "    print(f'Labels CSV file created at: {output_csv}')\n",
        "\n",
        "# Define the paths for the two datasets and their respective output directories\n",
        "data_collection = \"C:\\\\Users\\\\wawn1\\\\projects_skripsi\\\\data\\\\data_original\\\\Four_Data_Sources\\\\\"\n",
        "output_csv = \"C:\\\\Users\\\\wawn1\\\\projects_skripsi\\\\data\\\\data_preprocessing\\\\v3.4_data_custom\\\\labels.csv\"\n",
        "path_output = \"C:\\\\Users\\\\wawn1\\\\projects_skripsi\\\\data\\\\data_preprocessing\\\\v3.4_data_custom\\\\\"\n",
        "\n",
        "# Process the dataset\n",
        "create_labels_csv(data_collection, output_csv, path_output)"
      ],
      "metadata": {
        "id": "TVCNb0sYhJke"
      },
      "execution_count": null,
      "outputs": []
    },
    {
      "cell_type": "code",
      "source": [
        "import pandas as pd\n",
        "\n",
        "# Path main\n",
        "PATH_MAIN = path_output\n",
        "file = PATH_MAIN + \"labels.csv\"\n",
        "df = pd.read_csv(file)\n",
        "df.head()"
      ],
      "metadata": {
        "id": "BRRE850FhbPX"
      },
      "execution_count": null,
      "outputs": []
    }
  ]
}